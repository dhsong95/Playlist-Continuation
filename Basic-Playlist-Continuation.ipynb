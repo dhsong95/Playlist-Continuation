{
 "cells": [
  {
   "cell_type": "markdown",
   "metadata": {},
   "source": [
    "<center><h1>Basic Playlist Continuation</h1></center>\n",
    "<hr>"
   ]
  },
  {
   "cell_type": "markdown",
   "metadata": {},
   "source": [
    "> RecSys 2018 과제인 Playlist Continuation 일련의 과정을 수행한다."
   ]
  },
  {
   "cell_type": "markdown",
   "metadata": {},
   "source": [
    "<h2>References</h2><br>\n",
    "<a href=\"https://scikit-learn.org/stable/modules/generated/sklearn.decomposition.NMF.html#sklearn.decomposition.NMF\", target=\"_blank\">sklearn - Matrix Decomposition</a>"
   ]
  },
  {
   "cell_type": "markdown",
   "metadata": {},
   "source": [
    "<div id=\"top\"><h2>Table of Contents</h2></div>\n",
    "<ol>\n",
    "    <li><a href=\"#1\">Task Overview</a></li>\n",
    "    <li><a href=\"#2\">Data Description</a></li>\n",
    "    <li><a href=\"#3\">Prepare Data</a></li>\n",
    "    <ol>\n",
    "        <li><a href=\"#3.1\">Import Library</a></li>\n",
    "        <li><a href=\"#3.2\">Load Data</a></li>\n",
    "        <li><a href=\"#3.3\">Preprocess Data</a></li>\n",
    "    </ol>\n",
    "    <li><a href=\"#4\">Exploratory Data Analysis</a></li>\n",
    "    <ol>\n",
    "        <li><a href=\"#4.1\">Number of Track in Playlist</a></li>\n",
    "    </ol>\n",
    "    <li><a href=\"#5\">Data Modeling</a></li>\n",
    "    <ol>\n",
    "        <li><a href=\"#5.1\">Split Data</a></li>\n",
    "        <li><a href=\"#5.2\">Matrix Decomposition</a></li>\n",
    "        <li><a href=\"#3.3\">Preprocess Data</a></li>\n",
    "    </ol>\n",
    "</ol>\n",
    "<hr>"
   ]
  },
  {
   "cell_type": "markdown",
   "metadata": {},
   "source": [
    "<div id=\"1\"><h1>1. Task Overview</h1></div>\n",
    "<p style=\"text-align:right;\"><a href=\"#top\">🔝 top</a></p>"
   ]
  },
  {
   "cell_type": "markdown",
   "metadata": {},
   "source": [
    "> RecSys 2018 과제인 Playlist Continuation은 Track이 일부 비어있는 Playlist가 주어졌을 때, 적절한 Track을 추천하는 과제이다. 논문에서는 K-NN, Neural Network와 같은 방법을 활용하여서 문제를 해결한다."
   ]
  },
  {
   "cell_type": "markdown",
   "metadata": {},
   "source": [
    "<div id=\"2\"><h1>2. Data Description</h1></div>\n",
    "<p style=\"text-align:right;\"><a href=\"#top\">🔝 top</a></p>"
   ]
  },
  {
   "cell_type": "markdown",
   "metadata": {},
   "source": [
    "> Spotify에서 제공하는 Million Playlist Dataset(MPD)의 일부를 사용한다. JSON 형식에 파일에는 Playlist, Track에 대한 기본적인 metadata를 포함한다."
   ]
  },
  {
   "cell_type": "markdown",
   "metadata": {},
   "source": [
    "<div id=\"3\"><h1>3. Prepare Data</h1></div>\n",
    "<p style=\"text-align:right;\"><a href=\"#top\">🔝 top</a></p>"
   ]
  },
  {
   "cell_type": "markdown",
   "metadata": {},
   "source": [
    "<div id=\"3.1\"><h2>3.1. Import Library</h2></div>\n",
    "<p style=\"text-align:right;\"><a href=\"#top\">🔝 top</a></p>"
   ]
  },
  {
   "cell_type": "code",
   "execution_count": 1,
   "metadata": {},
   "outputs": [],
   "source": [
    "### Numerical Data\n",
    "import numpy as np\n",
    "\n",
    "### Loop Visualization\n",
    "from tqdm import tqdm\n",
    "\n",
    "### Visualization\n",
    "import matplotlib.pyplot as plt\n",
    "\n",
    "### Machine Learning\n",
    "from sklearn.model_selection import train_test_split\n",
    "from sklearn.decomposition import NMF\n",
    "\n",
    "### Json\n",
    "import json"
   ]
  },
  {
   "cell_type": "markdown",
   "metadata": {},
   "source": [
    "<div id=\"3.2\"><h2>3.2. Load Data</h2></div>\n",
    "<p style=\"text-align:right;\"><a href=\"#top\">🔝 top</a></p>"
   ]
  },
  {
   "cell_type": "code",
   "execution_count": 2,
   "metadata": {},
   "outputs": [],
   "source": [
    "def load_data(filepath):\n",
    "    json_str = ''\n",
    "    with open(filepath, encoding='utf-8') as f:\n",
    "        for line in tqdm(f.read()):\n",
    "            json_str += line\n",
    "    data = json.loads(json_str)\n",
    "    \n",
    "    return data"
   ]
  },
  {
   "cell_type": "code",
   "execution_count": 3,
   "metadata": {},
   "outputs": [
    {
     "name": "stderr",
     "output_type": "stream",
     "text": [
      "100%|██████████| 34119368/34119368 [00:11<00:00, 3002564.70it/s]\n"
     ]
    }
   ],
   "source": [
    "data = load_data('./data/mpd.slice.0-999.json')"
   ]
  },
  {
   "cell_type": "markdown",
   "metadata": {},
   "source": [
    "<div id=\"3.3\"><h2>3.3. Preprocess Data</h2></div>\n",
    "<p style=\"text-align:right;\"><a href=\"#top\">🔝 top</a></p>"
   ]
  },
  {
   "cell_type": "code",
   "execution_count": 4,
   "metadata": {},
   "outputs": [],
   "source": [
    "def extrack_playlist_track(data):\n",
    "    playlist_track = dict()\n",
    "    playlist = set()\n",
    "    track = set()\n",
    "    \n",
    "    for p in tqdm(data['playlists']):\n",
    "        playlist_name = '-'.join([p['name'], str(p['pid'])])\n",
    "        playlist.add(playlist_name)\n",
    "        playlist_track[playlist_name] = list()\n",
    "        for t in p['tracks']:\n",
    "            track_name = t['track_name']\n",
    "            track.add(track_name)\n",
    "            playlist_track[playlist_name].append(track_name)\n",
    "    playlist = list(playlist)\n",
    "    track = list(track)\n",
    "\n",
    "    return playlist_track, playlist, track"
   ]
  },
  {
   "cell_type": "code",
   "execution_count": 5,
   "metadata": {},
   "outputs": [
    {
     "name": "stderr",
     "output_type": "stream",
     "text": [
      "100%|██████████| 1000/1000 [00:00<00:00, 30348.20it/s]\n"
     ]
    }
   ],
   "source": [
    "playlist_track, playlist, track = extrack_playlist_track(data) "
   ]
  },
  {
   "cell_type": "code",
   "execution_count": 6,
   "metadata": {},
   "outputs": [],
   "source": [
    "def get_dictionary(playlist, track):\n",
    "    playlist2idx = {p: idx for idx, p in enumerate(playlist)}\n",
    "    idx2playlist = {idx: p for idx, p in enumerate(playlist)}\n",
    "    track2idx = {t: idx for idx, t in enumerate(track)}\n",
    "    idx2track = {idx: t for idx, t in enumerate(track)}\n",
    "    \n",
    "    return playlist2idx, idx2playlist, track2idx, idx2track"
   ]
  },
  {
   "cell_type": "code",
   "execution_count": 7,
   "metadata": {},
   "outputs": [],
   "source": [
    "playlist2idx, idx2playlist, track2idx, idx2track = get_dictionary(playlist, track)"
   ]
  },
  {
   "cell_type": "code",
   "execution_count": 8,
   "metadata": {},
   "outputs": [
    {
     "name": "stdout",
     "output_type": "stream",
     "text": [
      "Length of Playlist Track Pair: 1000\n"
     ]
    }
   ],
   "source": [
    "print('Length of Playlist Track Pair: {}'.format(len(playlist_track)))"
   ]
  },
  {
   "cell_type": "code",
   "execution_count": 9,
   "metadata": {},
   "outputs": [
    {
     "name": "stdout",
     "output_type": "stream",
     "text": [
      "Length of Playlist: 1000\n"
     ]
    }
   ],
   "source": [
    "print('Length of Playlist: {}'.format(len(playlist)))"
   ]
  },
  {
   "cell_type": "code",
   "execution_count": 10,
   "metadata": {},
   "outputs": [
    {
     "name": "stdout",
     "output_type": "stream",
     "text": [
      "Length of Track: 30049\n"
     ]
    }
   ],
   "source": [
    "print('Length of Track: {}'.format(len(track)))"
   ]
  },
  {
   "cell_type": "code",
   "execution_count": 11,
   "metadata": {},
   "outputs": [],
   "source": [
    "N_PLAYLIST = len(playlist)\n",
    "N_TRACK = len(track)"
   ]
  },
  {
   "cell_type": "code",
   "execution_count": 12,
   "metadata": {},
   "outputs": [],
   "source": [
    "def convert_to_matrix(playlist_track, playlist2idx=playlist2idx, track2idx=track2idx, binary=True):\n",
    "    p2t_matrix = np.zeros((N_PLAYLIST, N_TRACK))\n",
    "    \n",
    "    for playlist, tracks in playlist_track.items():\n",
    "        p_id = playlist2idx[playlist]\n",
    "        for track in tracks:\n",
    "            t_id = track2idx[track]\n",
    "            if binary:\n",
    "                p2t_matrix[p_id][t_id] = 1\n",
    "            else:\n",
    "                p2t_matrix[p_id][t_id] += 1\n",
    "    \n",
    "    return p2t_matrix"
   ]
  },
  {
   "cell_type": "code",
   "execution_count": 13,
   "metadata": {},
   "outputs": [],
   "source": [
    "p2t_matrix = convert_to_matrix(playlist_track)"
   ]
  },
  {
   "cell_type": "markdown",
   "metadata": {},
   "source": [
    "<div id=\"4\"><h1>4. Exploratory Data Analysis</h1></div>\n",
    "<p style=\"text-align:right;\"><a href=\"#top\">🔝 top</a></p>"
   ]
  },
  {
   "cell_type": "markdown",
   "metadata": {},
   "source": [
    "<div id=\"4.1\"><h2>4.1. Number of Track in Playlist</h2></div>\n",
    "<p style=\"text-align:right;\"><a href=\"#top\">🔝 top</a></p>"
   ]
  },
  {
   "cell_type": "code",
   "execution_count": 14,
   "metadata": {},
   "outputs": [
    {
     "data": {
      "image/png": "[encoded data removed]",
      "text/plain": [
       "<Figure size 864x576 with 1 Axes>"
      ]
     },
     "metadata": {
      "needs_background": "light"
     },
     "output_type": "display_data"
    }
   ],
   "source": [
    "plt.figure(figsize=(12, 8))\n",
    "plt.hist(p2t_matrix.sum(axis=1), bins=50)\n",
    "plt.xlabel('Number of Track in Playlist')\n",
    "plt.ylabel('Frequency')\n",
    "plt.title('Histogram for Number of Track in Playlist')\n",
    "plt.show()"
   ]
  },
  {
   "cell_type": "markdown",
   "metadata": {},
   "source": [
    "<div id=\"5\"><h1>5. Data Modeling</h1></div>\n",
    "<p style=\"text-align:right;\"><a href=\"#top\">🔝 top</a></p>"
   ]
  },
  {
   "cell_type": "markdown",
   "metadata": {},
   "source": [
    "<div id=\"5.1\"><h2>5.1. Split Data</h2></div>\n",
    "<p style=\"text-align:right;\"><a href=\"#top\">🔝 top</a></p>"
   ]
  },
  {
   "cell_type": "markdown",
   "metadata": {},
   "source": [
    "**Data Description**\n",
    "> **Whole Data**\n",
    "> <br>\n",
    "> p2t_matrix: playlist-to-track matrix origianl version<br>\n",
    "> p2t_matrix_masked: playlist-to-track matrix masked version<br>\n",
    "\n",
    "> **Training Data**\n",
    "> <br>\n",
    "> train_id: playlist id for train_data. index at train_data leads to original playlist id<br>\n",
    "> train_data: partial p2t_matrix for training.<br>\n",
    "\n",
    "> **Validation Data**\n",
    "> <br>\n",
    "> validation_id: playlist id for validation_data. index at validation_id leads to original playlist id<br>\n",
    "> validation_data: partial p2t_matrix for validation. <br>\n",
    "> validation_data_masked: partial p2t_matrix for validation with masked.<br>\n",
    "> validation_track_length: original number of track of partial p2t_matrix for validation.<br>\n",
    "\n",
    "> **Test Data**\n",
    "> <br>\n",
    "> test_id: playlist id for test_data. index at test_id leads to original playlist id<br>\n",
    "> test_data: partial p2t_matrix for test. <br>\n",
    "> test_data_masked: partial p2t_matrix for test with masked.<br>\n",
    "> test_track_length: original number of track of partial p2t_matrix for test.<br>"
   ]
  },
  {
   "cell_type": "code",
   "execution_count": 15,
   "metadata": {
    "scrolled": false
   },
   "outputs": [],
   "source": [
    "def split_data(data):\n",
    "    train_id, test_id, train_data, test_data = train_test_split(\n",
    "        range(0, 1000), \n",
    "        data, \n",
    "        test_size=0.1, \n",
    "        random_state=2020\n",
    "    )\n",
    "    \n",
    "    train_id, validation_id, train_data, validation_data = train_test_split(\n",
    "        train_id,\n",
    "        train_data,\n",
    "        test_size=0.2, \n",
    "        random_state=2020\n",
    "    )\n",
    "    \n",
    "    return train_id, validation_id, test_id, train_data, validation_data, test_data\n"
   ]
  },
  {
   "cell_type": "code",
   "execution_count": 16,
   "metadata": {},
   "outputs": [],
   "source": [
    "train_id, validation_id, test_id, train_data, validation_data, test_data = split_data(p2t_matrix)"
   ]
  },
  {
   "cell_type": "code",
   "execution_count": 17,
   "metadata": {},
   "outputs": [
    {
     "name": "stdout",
     "output_type": "stream",
     "text": [
      "Train: 720, Validation: 180, Test: 100\n"
     ]
    }
   ],
   "source": [
    "print('Train: {}, Validation: {}, Test: {}'.format(train_data.shape[0], validation_data.shape[0], test_data.shape[0]))"
   ]
  },
  {
   "cell_type": "code",
   "execution_count": 18,
   "metadata": {},
   "outputs": [],
   "source": [
    "def mask_data(playlist_id, playlist, p2t_matrix, rate=0.5):\n",
    "    length = list()\n",
    "    for pid, p in zip(playlist_id, playlist):\n",
    "        tid = np.where(p == 1)[0]\n",
    "        \n",
    "        n_track = len(tid)\n",
    "        length.append(n_track)\n",
    "        masked_tid = tid[np.random.choice(n_track, int(n_track * rate))]\n",
    "        \n",
    "        p[masked_tid] = 0\n",
    "        p2t_matrix[pid][masked_tid] = 0\n",
    "        \n",
    "    return length"
   ]
  },
  {
   "cell_type": "code",
   "execution_count": 19,
   "metadata": {},
   "outputs": [],
   "source": [
    "p2t_matrix_masked = p2t_matrix.copy()"
   ]
  },
  {
   "cell_type": "code",
   "execution_count": 20,
   "metadata": {},
   "outputs": [],
   "source": [
    "validation_data_masked = validation_data.copy()\n",
    "validation_track_length = mask_data(validation_id, validation_data_masked, p2t_matrix_masked)"
   ]
  },
  {
   "cell_type": "code",
   "execution_count": 21,
   "metadata": {},
   "outputs": [],
   "source": [
    "test_data_masked = test_data.copy()\n",
    "test_track_length = mask_data(test_id, test_data_masked, p2t_matrix_masked)"
   ]
  },
  {
   "cell_type": "code",
   "execution_count": 22,
   "metadata": {},
   "outputs": [
    {
     "data": {
      "text/plain": [
       "array([ True,  True,  True,  True,  True,  True,  True,  True,  True,\n",
       "        True,  True,  True,  True,  True,  True,  True,  True,  True,\n",
       "        True,  True,  True,  True,  True,  True,  True,  True,  True,\n",
       "        True,  True,  True,  True,  True,  True,  True,  True,  True,\n",
       "        True,  True,  True,  True,  True,  True,  True,  True,  True,\n",
       "        True,  True,  True,  True,  True,  True,  True,  True])"
      ]
     },
     "execution_count": 22,
     "metadata": {},
     "output_type": "execute_result"
    }
   ],
   "source": [
    "np.where(validation_data[0] == 1)[0] == np.where(p2t_matrix[validation_id[0]] == 1)[0]"
   ]
  },
  {
   "cell_type": "code",
   "execution_count": 23,
   "metadata": {},
   "outputs": [
    {
     "data": {
      "text/plain": [
       "array([ True,  True,  True,  True,  True,  True,  True,  True,  True,\n",
       "        True,  True,  True,  True,  True,  True,  True,  True,  True,\n",
       "        True,  True,  True,  True,  True,  True,  True,  True,  True,\n",
       "        True,  True,  True])"
      ]
     },
     "execution_count": 23,
     "metadata": {},
     "output_type": "execute_result"
    }
   ],
   "source": [
    "np.where(validation_data_masked[0] == 1)[0] == np.where(p2t_matrix_masked[validation_id[0]] == 1)[0]"
   ]
  },
  {
   "cell_type": "code",
   "execution_count": 24,
   "metadata": {},
   "outputs": [
    {
     "data": {
      "text/plain": [
       "array([ True,  True,  True,  True,  True,  True,  True,  True,  True,\n",
       "        True,  True,  True,  True,  True,  True,  True,  True,  True,\n",
       "        True,  True,  True,  True,  True,  True,  True,  True,  True,\n",
       "        True,  True,  True,  True,  True,  True,  True,  True,  True,\n",
       "        True,  True,  True,  True,  True,  True,  True,  True,  True,\n",
       "        True,  True,  True,  True,  True,  True,  True,  True,  True,\n",
       "        True,  True,  True,  True,  True,  True,  True,  True,  True,\n",
       "        True,  True,  True,  True,  True,  True,  True,  True,  True,\n",
       "        True,  True,  True,  True,  True,  True,  True,  True,  True,\n",
       "        True,  True,  True,  True,  True,  True,  True,  True,  True,\n",
       "        True,  True,  True,  True,  True,  True,  True,  True,  True,\n",
       "        True,  True,  True,  True,  True,  True,  True,  True,  True,\n",
       "        True,  True,  True,  True,  True,  True,  True,  True,  True,\n",
       "        True,  True,  True,  True,  True,  True,  True,  True,  True,\n",
       "        True,  True,  True,  True,  True,  True,  True,  True,  True,\n",
       "        True,  True,  True,  True,  True,  True,  True,  True,  True,\n",
       "        True,  True,  True,  True,  True,  True,  True,  True,  True,\n",
       "        True,  True,  True,  True,  True,  True,  True,  True,  True,\n",
       "        True,  True,  True,  True,  True,  True,  True,  True,  True,\n",
       "        True,  True,  True,  True,  True,  True,  True,  True,  True])"
      ]
     },
     "execution_count": 24,
     "metadata": {},
     "output_type": "execute_result"
    }
   ],
   "source": [
    "validation_track_length == validation_data.sum(axis=1).astype(int)"
   ]
  },
  {
   "cell_type": "code",
   "execution_count": 25,
   "metadata": {},
   "outputs": [
    {
     "data": {
      "text/plain": [
       "array([ True,  True,  True,  True,  True,  True,  True,  True,  True,\n",
       "        True,  True,  True,  True,  True,  True,  True,  True,  True,\n",
       "        True,  True,  True,  True,  True,  True,  True,  True,  True,\n",
       "        True,  True,  True,  True,  True,  True,  True,  True,  True,\n",
       "        True,  True,  True,  True,  True,  True,  True,  True,  True,\n",
       "        True,  True,  True,  True,  True,  True,  True,  True,  True,\n",
       "        True,  True,  True,  True,  True,  True,  True,  True,  True,\n",
       "        True,  True,  True,  True,  True,  True,  True,  True,  True,\n",
       "        True,  True,  True,  True,  True,  True,  True,  True,  True,\n",
       "        True,  True,  True,  True,  True,  True,  True,  True,  True,\n",
       "        True,  True,  True,  True,  True,  True,  True,  True,  True,\n",
       "        True])"
      ]
     },
     "execution_count": 25,
     "metadata": {},
     "output_type": "execute_result"
    }
   ],
   "source": [
    "test_track_length == test_data.sum(axis=1).astype(int)"
   ]
  },
  {
   "cell_type": "markdown",
   "metadata": {},
   "source": [
    "<div id=\"5.2\"><h2>5.2. Matrix Decomposition</h2></div>\n",
    "<p style=\"text-align:right;\"><a href=\"#top\">🔝 top</a></p>"
   ]
  },
  {
   "cell_type": "code",
   "execution_count": 40,
   "metadata": {},
   "outputs": [],
   "source": [
    "N_COMPONENTS = 300"
   ]
  },
  {
   "cell_type": "code",
   "execution_count": 41,
   "metadata": {},
   "outputs": [],
   "source": [
    "def train_model(data):\n",
    "    nmf = NMF(n_components=N_COMPONENTS, max_iter=100, random_state=2020, alpha=0.08, verbose=True)\n",
    "    nmf.fit(data)\n",
    "    return nmf"
   ]
  },
  {
   "cell_type": "code",
   "execution_count": 42,
   "metadata": {
    "scrolled": true
   },
   "outputs": [
    {
     "name": "stdout",
     "output_type": "stream",
     "text": [
      "violation: 1.0\n",
      "violation: 0.08426914169699048\n",
      "violation: 0.04996255928479021\n",
      "violation: 0.035433407728093315\n",
      "violation: 0.026897412723445847\n",
      "violation: 0.049114205229110815\n",
      "violation: 0.03989732196865256\n",
      "violation: 0.02727099746774174\n",
      "violation: 0.020950835286240643\n",
      "violation: 0.01670520444665249\n",
      "violation: 0.013697293427482934\n",
      "violation: 0.011467745447242493\n",
      "violation: 0.009821810660649733\n",
      "violation: 0.008839689346223175\n",
      "violation: 0.007853526350285914\n",
      "violation: 0.006936641185531231\n",
      "violation: 0.006024311353940717\n",
      "violation: 0.005393653223279284\n",
      "violation: 0.004952385224568362\n",
      "violation: 0.004596203309682206\n",
      "violation: 0.004288697353387924\n",
      "violation: 0.004028291554915588\n",
      "violation: 0.003821697789586774\n",
      "violation: 0.0036681569770139408\n",
      "violation: 0.0035536665155918253\n",
      "violation: 0.0034505270277482235\n",
      "violation: 0.003355080097477563\n",
      "violation: 0.003257361815530495\n",
      "violation: 0.003132288610715801\n",
      "violation: 0.0029815264022166367\n",
      "violation: 0.00280868766921322\n",
      "violation: 0.002635233880970212\n",
      "violation: 0.0024824340435652126\n",
      "violation: 0.0023515033187513673\n",
      "violation: 0.002238425457469124\n",
      "violation: 0.0021366473420719213\n",
      "violation: 0.0020411554969871786\n",
      "violation: 0.0019591797100658287\n",
      "violation: 0.0018814705106128937\n",
      "violation: 0.001811465495220858\n",
      "violation: 0.0017464345516457944\n",
      "violation: 0.00168700774022103\n",
      "violation: 0.0016314501121452015\n",
      "violation: 0.0015779129790211065\n",
      "violation: 0.001531612346551166\n",
      "violation: 0.0014883773795794258\n",
      "violation: 0.0014507541634969697\n",
      "violation: 0.00141573584891013\n",
      "violation: 0.0013825561988054585\n",
      "violation: 0.0013511203261884484\n",
      "violation: 0.0013232027841423735\n",
      "violation: 0.001296220894396297\n",
      "violation: 0.0012698596462809508\n",
      "violation: 0.0012423530868164822\n",
      "violation: 0.0012171377847666875\n",
      "violation: 0.0011899770794250653\n",
      "violation: 0.001156832701867885\n",
      "violation: 0.0011206731323586887\n",
      "violation: 0.0010864035375181152\n",
      "violation: 0.0010527205672162445\n",
      "violation: 0.001018719361202534\n",
      "violation: 0.0009845041173074057\n",
      "violation: 0.0009533760565298635\n",
      "violation: 0.000924954512710894\n",
      "violation: 0.0009008254667828615\n",
      "violation: 0.0008798969064935378\n",
      "violation: 0.0008638576866862029\n",
      "violation: 0.0008511968553071393\n",
      "violation: 0.0008432683683762137\n",
      "violation: 0.0008406595105995314\n",
      "violation: 0.0008425180796165101\n",
      "violation: 0.0008490444511810533\n",
      "violation: 0.00086178431843424\n",
      "violation: 0.000879052006185767\n",
      "violation: 0.0008996978008989244\n",
      "violation: 0.0009213897863512051\n",
      "violation: 0.000939193201766143\n",
      "violation: 0.0009531673092783667\n",
      "violation: 0.000955788587119489\n",
      "violation: 0.0009469586752030615\n",
      "violation: 0.0009231924560386624\n",
      "violation: 0.0008908494869226915\n",
      "violation: 0.0008538103057881078\n",
      "violation: 0.000813957051904024\n",
      "violation: 0.000775128408676889\n",
      "violation: 0.0007386759244873877\n",
      "violation: 0.0007053810404410782\n",
      "violation: 0.0006759666593709007\n",
      "violation: 0.0006499009764267661\n",
      "violation: 0.0006283025850495268\n",
      "violation: 0.0006089625182666197\n",
      "violation: 0.0005922292028248938\n",
      "violation: 0.0005773346347404113\n",
      "violation: 0.0005634427590522715\n",
      "violation: 0.0005512073724460186\n",
      "violation: 0.0005390485011379592\n",
      "violation: 0.0005270929813442995\n",
      "violation: 0.000514372612400452\n",
      "violation: 0.0005015914205819028\n",
      "violation: 0.0004886319339351818\n"
     ]
    }
   ],
   "source": [
    "model = train_model(p2t_matrix_masked)"
   ]
  },
  {
   "cell_type": "code",
   "execution_count": 43,
   "metadata": {},
   "outputs": [],
   "source": [
    "def predict(model, data):\n",
    "    data = model.transform(data)\n",
    "    data = np.matmul(data, model.components_)\n",
    "    return data"
   ]
  },
  {
   "cell_type": "code",
   "execution_count": 44,
   "metadata": {},
   "outputs": [
    {
     "name": "stdout",
     "output_type": "stream",
     "text": [
      "violation: 1.0\n",
      "violation: 0.5893918963638867\n",
      "violation: 0.04767472370702755\n",
      "violation: 0.013075794374159035\n",
      "violation: 0.004161540006468447\n",
      "violation: 0.0013054792316113558\n",
      "violation: 0.0004809176179087992\n",
      "violation: 0.00020085757552198885\n",
      "violation: 7.421522506253951e-05\n",
      "Converged at iteration 9\n"
     ]
    }
   ],
   "source": [
    "prediction = predict(model, validation_data_masked)"
   ]
  },
  {
   "cell_type": "code",
   "execution_count": 45,
   "metadata": {},
   "outputs": [],
   "source": [
    "def calculate_rprec(pred, real):\n",
    "    correct = sum([1 if p in real else 0 for p in pred])\n",
    "    return correct / len(pred)"
   ]
  },
  {
   "cell_type": "code",
   "execution_count": 48,
   "metadata": {},
   "outputs": [],
   "source": [
    "def evaluate(pred, real, real_length):\n",
    "    score = 0.0\n",
    "    \n",
    "    assert pred.shape[0] == real.shape[0]\n",
    "    size = pred.shape[0]\n",
    "    \n",
    "    for idx in range(size):\n",
    "        length = real_length[idx]\n",
    "        recommendation = np.argsort(pred[idx])[::-1][:length]\n",
    "        answer = np.where(real[idx] == 1)[0]\n",
    "        rprec = calculate_rprec(recommendation, answer)\n",
    "        score += rprec\n",
    "    \n",
    "    return score / size"
   ]
  },
  {
   "cell_type": "code",
   "execution_count": 49,
   "metadata": {},
   "outputs": [
    {
     "name": "stdout",
     "output_type": "stream",
     "text": [
      "53\n",
      "0.2830188679245283\n",
      "66\n",
      "0.2727272727272727\n",
      "10\n",
      "0.0\n",
      "26\n",
      "0.23076923076923078\n",
      "5\n",
      "0.4\n",
      "73\n",
      "0.1917808219178082\n",
      "26\n",
      "0.15384615384615385\n",
      "15\n",
      "0.2\n",
      "183\n",
      "0.5956284153005464\n",
      "131\n",
      "0.5267175572519084\n",
      "78\n",
      "0.23076923076923078\n",
      "66\n",
      "0.19696969696969696\n",
      "88\n",
      "0.17045454545454544\n",
      "23\n",
      "0.13043478260869565\n",
      "8\n",
      "0.0\n",
      "19\n",
      "0.10526315789473684\n",
      "57\n",
      "0.22807017543859648\n",
      "28\n",
      "0.07142857142857142\n",
      "42\n",
      "0.023809523809523808\n",
      "97\n",
      "0.23711340206185566\n",
      "21\n",
      "0.14285714285714285\n",
      "16\n",
      "0.375\n",
      "26\n",
      "0.23076923076923078\n",
      "23\n",
      "0.08695652173913043\n",
      "20\n",
      "0.2\n",
      "186\n",
      "0.6344086021505376\n",
      "17\n",
      "0.17647058823529413\n",
      "187\n",
      "0.6310160427807486\n",
      "19\n",
      "0.2631578947368421\n",
      "101\n",
      "0.12871287128712872\n",
      "110\n",
      "0.13636363636363635\n",
      "47\n",
      "0.10638297872340426\n",
      "20\n",
      "0.2\n",
      "46\n",
      "0.17391304347826086\n",
      "88\n",
      "0.2727272727272727\n",
      "27\n",
      "0.1111111111111111\n",
      "70\n",
      "0.45714285714285713\n",
      "18\n",
      "0.3333333333333333\n",
      "32\n",
      "0.15625\n",
      "124\n",
      "0.6209677419354839\n",
      "14\n",
      "0.07142857142857142\n",
      "75\n",
      "0.05333333333333334\n",
      "18\n",
      "0.4444444444444444\n",
      "19\n",
      "0.3157894736842105\n",
      "65\n",
      "0.07692307692307693\n",
      "30\n",
      "0.13333333333333333\n",
      "21\n",
      "0.3333333333333333\n",
      "39\n",
      "0.1282051282051282\n",
      "28\n",
      "0.03571428571428571\n",
      "139\n",
      "0.6474820143884892\n",
      "26\n",
      "0.11538461538461539\n",
      "38\n",
      "0.15789473684210525\n",
      "89\n",
      "0.39325842696629215\n",
      "37\n",
      "0.16216216216216217\n",
      "13\n",
      "0.23076923076923078\n",
      "135\n",
      "0.2962962962962963\n",
      "23\n",
      "0.17391304347826086\n",
      "61\n",
      "0.16393442622950818\n",
      "82\n",
      "0.2073170731707317\n",
      "26\n",
      "0.15384615384615385\n",
      "50\n",
      "0.1\n",
      "17\n",
      "0.23529411764705882\n",
      "66\n",
      "0.15151515151515152\n",
      "10\n",
      "0.1\n",
      "45\n",
      "0.15555555555555556\n",
      "111\n",
      "0.2972972972972973\n",
      "173\n",
      "0.5953757225433526\n",
      "35\n",
      "0.37142857142857144\n",
      "13\n",
      "0.15384615384615385\n",
      "41\n",
      "0.0\n",
      "24\n",
      "0.16666666666666666\n",
      "117\n",
      "0.717948717948718\n",
      "116\n",
      "0.3448275862068966\n",
      "23\n",
      "0.21739130434782608\n",
      "20\n",
      "0.4\n",
      "17\n",
      "0.23529411764705882\n",
      "59\n",
      "0.03389830508474576\n",
      "68\n",
      "0.25\n",
      "17\n",
      "0.17647058823529413\n",
      "46\n",
      "0.21739130434782608\n",
      "27\n",
      "0.2222222222222222\n",
      "140\n",
      "0.6357142857142857\n",
      "31\n",
      "0.22580645161290322\n",
      "131\n",
      "0.6259541984732825\n",
      "14\n",
      "0.21428571428571427\n",
      "8\n",
      "0.25\n",
      "35\n",
      "0.2\n",
      "103\n",
      "0.18446601941747573\n",
      "130\n",
      "0.6307692307692307\n",
      "50\n",
      "0.28\n",
      "207\n",
      "0.6231884057971014\n",
      "47\n",
      "0.1276595744680851\n",
      "11\n",
      "0.2727272727272727\n",
      "174\n",
      "0.6379310344827587\n",
      "37\n",
      "0.2702702702702703\n",
      "14\n",
      "0.0\n",
      "34\n",
      "0.17647058823529413\n",
      "57\n",
      "0.24561403508771928\n",
      "28\n",
      "0.17857142857142858\n",
      "130\n",
      "0.6923076923076923\n",
      "48\n",
      "0.3333333333333333\n",
      "174\n",
      "0.6091954022988506\n",
      "9\n",
      "0.3333333333333333\n",
      "19\n",
      "0.2631578947368421\n",
      "115\n",
      "0.12173913043478261\n",
      "5\n",
      "0.2\n",
      "12\n",
      "0.08333333333333333\n",
      "18\n",
      "0.3333333333333333\n",
      "24\n",
      "0.08333333333333333\n",
      "22\n",
      "0.18181818181818182\n",
      "86\n",
      "0.19767441860465115\n",
      "54\n",
      "0.14814814814814814\n",
      "59\n",
      "0.23728813559322035\n",
      "17\n",
      "0.29411764705882354\n",
      "17\n",
      "0.058823529411764705\n",
      "85\n",
      "0.11764705882352941\n",
      "10\n",
      "0.1\n",
      "10\n",
      "0.3\n",
      "22\n",
      "0.09090909090909091\n",
      "33\n",
      "0.6060606060606061\n",
      "31\n",
      "0.06451612903225806\n",
      "18\n",
      "0.3333333333333333\n",
      "54\n",
      "0.1111111111111111\n",
      "35\n",
      "0.17142857142857143\n",
      "28\n",
      "0.35714285714285715\n",
      "150\n",
      "0.64\n",
      "17\n",
      "0.17647058823529413\n",
      "102\n",
      "0.029411764705882353\n",
      "85\n",
      "0.3176470588235294\n",
      "47\n",
      "0.44680851063829785\n",
      "47\n",
      "0.23404255319148937\n",
      "53\n",
      "0.2641509433962264\n",
      "44\n",
      "0.11363636363636363\n",
      "70\n",
      "0.2571428571428571\n",
      "27\n",
      "0.18518518518518517\n",
      "56\n",
      "0.08928571428571429\n",
      "231\n",
      "0.6147186147186147\n",
      "17\n",
      "0.23529411764705882\n",
      "21\n",
      "0.09523809523809523\n",
      "232\n",
      "0.6594827586206896\n",
      "14\n",
      "0.14285714285714285\n",
      "49\n",
      "0.24489795918367346\n",
      "52\n",
      "0.3269230769230769\n",
      "202\n",
      "0.6485148514851485\n",
      "128\n",
      "0.5859375\n",
      "145\n",
      "0.5862068965517241\n",
      "50\n",
      "0.2\n",
      "74\n",
      "0.24324324324324326\n",
      "220\n",
      "0.6136363636363636\n",
      "157\n",
      "0.6178343949044586\n",
      "21\n",
      "0.38095238095238093\n",
      "54\n",
      "0.09259259259259259\n",
      "14\n",
      "0.35714285714285715\n",
      "12\n",
      "0.3333333333333333\n",
      "51\n",
      "0.7450980392156863\n",
      "152\n",
      "0.6578947368421053\n",
      "34\n",
      "0.17647058823529413\n",
      "34\n",
      "0.20588235294117646\n",
      "76\n",
      "0.25\n",
      "52\n",
      "0.1346153846153846\n",
      "60\n",
      "0.31666666666666665\n",
      "24\n",
      "0.16666666666666666\n",
      "97\n",
      "0.18556701030927836\n",
      "33\n",
      "0.06060606060606061\n",
      "96\n",
      "0.3645833333333333\n",
      "100\n",
      "0.31\n",
      "18\n",
      "0.2222222222222222\n",
      "18\n",
      "0.2222222222222222\n",
      "24\n",
      "0.16666666666666666\n",
      "14\n",
      "0.14285714285714285\n",
      "61\n",
      "0.13114754098360656\n",
      "143\n",
      "0.6363636363636364\n",
      "52\n",
      "0.38461538461538464\n",
      "123\n",
      "0.6260162601626016\n",
      "120\n",
      "0.6083333333333333\n",
      "126\n",
      "0.5793650793650794\n",
      "13\n",
      "0.0\n",
      "50\n",
      "0.2\n",
      "23\n",
      "0.21739130434782608\n",
      "16\n",
      "0.0625\n",
      "R Precision Score: 0.27129101268719313\n"
     ]
    }
   ],
   "source": [
    "score = evaluate(prediction, validation_data, validation_track_length)\n",
    "print('R Precision Score: {}'.format(score))"
   ]
  },
  {
   "cell_type": "code",
   "execution_count": null,
   "metadata": {},
   "outputs": [],
   "source": []
  }
 ],
 "metadata": {
  "kernelspec": {
   "display_name": "Python 3",
   "language": "python",
   "name": "python3"
  },
  "language_info": {
   "codemirror_mode": {
    "name": "ipython",
    "version": 3
   },
   "file_extension": ".py",
   "mimetype": "text/x-python",
   "name": "python",
   "nbconvert_exporter": "python",
   "pygments_lexer": "ipython3",
   "version": "3.7.4"
  }
 },
 "nbformat": 4,
 "nbformat_minor": 4
}
